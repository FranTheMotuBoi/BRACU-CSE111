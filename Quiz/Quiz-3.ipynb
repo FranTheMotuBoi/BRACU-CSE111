{
 "cells": [
  {
   "cell_type": "markdown",
   "metadata": {},
   "source": [
    "𝗤𝘂𝗲𝘀𝘁𝗶𝗼𝗻:  \n",
    "Implement the design of the Laptop class so that the following output is \n",
    "produced:  \n",
    "[Your code should work for any number of features added in the add_Features \n",
    "method]  \n",
    "\n",
    "\\# Write your code here  \n",
    "\\# Do not change the following lines of code.  \n",
    "\n",
    "print(\"No. of Laptop =\", Laptop.count)  \n",
    "l1 = Laptop('Macbook Pro', 2021)  \n",
    "l1.add_Features('Apple M1 Chip' , '16-core Neural Engine', '8-core GPU')  \n",
    "l2 = Laptop('Razer Blade Pro 17', 2020)  \n",
    "l2.add_Features('Intel Core i7-10875H CPU' , 'Nvidia RTX 3080 16GB GPU')  \n",
    "l3 = Laptop('HP SPECTRE X360 14', 2021)  \n",
    "l3.add_Features('512GB PCIe NVMe SSD' ,  'Intel Core i7-1165G7 CPU')  \n",
    "print(\"=========================\")  \n",
    "l1.printLaptopDetail()  \n",
    "print(\"=========================\")  \n",
    "l2.printLaptopDetail()  \n",
    "print(\"=========================\")  \n",
    "l3.printLaptopDetail()  \n",
    "print(\"=========================\")  \n",
    "print('No. of Laptop =',Laptop.count)  \n",
    "\n",
    "Output:  \n",
    "No. of Laptop = 0  \n",
    "\\=========================  \n",
    "Model Name: Macbook Pro  \n",
    "Year of release: 2021  \n",
    "Features: Apple M1 Chip, 16-core Neural Engine, 8-core GPU  \n",
    "\\=========================  \n",
    "Model Name: Razer Blade Pro 17  \n",
    "Year of release: 2020   \n",
    "Features: Intel Core i7-10875H CPU, Nvidia RTX 3080 16GB GPU  \n",
    "\\=========================  \n",
    "Model Name: HP SPECTRE X360 14  \n",
    "Year of release: 2021  \n",
    "Features: 512GB PCIe NVMe SSD, Intel Core i7-1165G7 CPU  \n",
    "\\=========================  \n",
    "No. of Laptop = 3"
   ]
  },
  {
   "cell_type": "code",
   "execution_count": 3,
   "metadata": {},
   "outputs": [
    {
     "name": "stdout",
     "output_type": "stream",
     "text": [
      "No. of Laptop = 0\n",
      "=========================\n",
      "Model Name: Macbook Pro\n",
      "Year of release: 2021\n",
      "Features: Apple M1 Chip, 16-core Neural Engine, 8-core GPU\n",
      "=========================\n",
      "Model Name: Razer Blade Pro 17\n",
      "Year of release: 2020\n",
      "Features: Intel Core i7-10875H CPU, Nvidia RTX 3080 16GB GPU\n",
      "=========================\n",
      "Model Name: HP SPECTRE X360 14\n",
      "Year of release: 2021\n",
      "Features: 512GB PCIe NVMe SSD, Intel Core i7-1165G7 CPU\n",
      "=========================\n",
      "No. of Laptop = 3\n"
     ]
    }
   ],
   "source": [
    "class Laptop:\n",
    "    count = 0\n",
    "    def __init__(self, model, year):\n",
    "        self.model = model\n",
    "        self.year = year\n",
    "        self.features = []\n",
    "        Laptop.count += 1\n",
    "    \n",
    "    def add_Features(self, *features):\n",
    "        for item in features:\n",
    "            self.features.append(item)\n",
    "    \n",
    "    def printLaptopDetail(self):\n",
    "        features_output = ''\n",
    "        print(f'Model Name: {self.model}')\n",
    "        print(f'Year of release: {self.year}')\n",
    "        print('Features: ', end='')\n",
    "        for item in self.features:\n",
    "            features_output += item + ', '\n",
    "        print(features_output.strip(', '))\n",
    "\n",
    "print(\"No. of Laptop =\", Laptop.count)\n",
    "l1 = Laptop('Macbook Pro', 2021)\n",
    "l1.add_Features('Apple M1 Chip' , '16-core Neural Engine', '8-core GPU')\n",
    "l2 = Laptop('Razer Blade Pro 17', 2020)\n",
    "l2.add_Features('Intel Core i7-10875H CPU' , 'Nvidia RTX 3080 16GB GPU')\n",
    "l3 = Laptop('HP SPECTRE X360 14', 2021)\n",
    "l3.add_Features('512GB PCIe NVMe SSD' ,  'Intel Core i7-1165G7 CPU')\n",
    "print(\"=========================\")\n",
    "l1.printLaptopDetail()\n",
    "print(\"=========================\")\n",
    "l2.printLaptopDetail()\n",
    "print(\"=========================\")\n",
    "l3.printLaptopDetail()\n",
    "print(\"=========================\")\n",
    "print('No. of Laptop =',Laptop.count)"
   ]
  }
 ],
 "metadata": {
  "interpreter": {
   "hash": "9c5fe33c204237f94b0bdfdaac1d1cb917d5d0e21ef3488bbc5ba10c71f2799f"
  },
  "kernelspec": {
   "display_name": "Python 3.9.2 64-bit ('env': venv)",
   "language": "python",
   "name": "python3"
  },
  "language_info": {
   "codemirror_mode": {
    "name": "ipython",
    "version": 3
   },
   "file_extension": ".py",
   "mimetype": "text/x-python",
   "name": "python",
   "nbconvert_exporter": "python",
   "pygments_lexer": "ipython3",
   "version": "3.9.2"
  },
  "orig_nbformat": 4
 },
 "nbformat": 4,
 "nbformat_minor": 2
}
