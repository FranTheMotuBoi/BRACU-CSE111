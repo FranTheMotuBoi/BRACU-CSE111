{
 "cells": [
  {
   "cell_type": "markdown",
   "metadata": {},
   "source": [
    "## Task 1"
   ]
  },
  {
   "cell_type": "code",
   "execution_count": 1,
   "metadata": {},
   "outputs": [
    {
     "name": "stdout",
     "output_type": "stream",
     "text": [
      "Let's Calculate!\n",
      "Result: 3\n"
     ]
    }
   ],
   "source": [
    "class Calculator:\n",
    "    def __init__(self):\n",
    "        print(\"Let's Calculate!\")\n",
    "    \n",
    "    def add(self, num1 ,num2):\n",
    "        return num1 + num2\n",
    "    def subtract(self, num1, num2):\n",
    "        return num1 - num2\n",
    "    def multiply(self, num1, num2):\n",
    "        return num1 * num2\n",
    "    def divide(self, num1, num2):\n",
    "        if num2 == 0:\n",
    "            return 'Zero Division Error'\n",
    "        return num1 / num2\n",
    "\n",
    "calculate = Calculator()\n",
    "result = 0\n",
    "first = int(input(\"Value 1: \"))\n",
    "operator = input(\"Operator: \")\n",
    "second = int(input(\"Value 2: \"))\n",
    "\n",
    "if operator == '+':\n",
    "    result = calculate.add(first, second)\n",
    "elif operator == '-':\n",
    "    result = calculate.subtract(first, second)\n",
    "elif operator == '*':\n",
    "    result = calculate.multiply(first, second)\n",
    "elif operator == '/':\n",
    "    result = calculate.divide(first, second)\n",
    "\n",
    "print(\"Result:\", result)\n",
    "\n"
   ]
  },
  {
   "cell_type": "markdown",
   "metadata": {},
   "source": [
    "## Task 2"
   ]
  },
  {
   "cell_type": "code",
   "execution_count": 2,
   "metadata": {},
   "outputs": [
    {
     "name": "stdout",
     "output_type": "stream",
     "text": [
      "Hello!\n",
      "Sam, you purchased 3 items(s):\n",
      "chips\n",
      "chocolate\n",
      "orange juice\n",
      "-----------------------------\n",
      "Hello David!\n",
      "David, you purchased 1 items(s):\n",
      "orange juice\n"
     ]
    }
   ],
   "source": [
    "class Customer:\n",
    "    def __init__(self, name):\n",
    "        self.name = name\n",
    "\n",
    "    def greet(self, arg = None):\n",
    "        if arg == None:\n",
    "            print(\"Hello!\")\n",
    "        else:\n",
    "            print(f\"Hello {arg}!\")\n",
    "    def purchase(self, *arg):\n",
    "        print(f'{self.name}, you purchased {len(arg)} items(s):')\n",
    "        for item in arg:\n",
    "            print(item)\n",
    "\n",
    "\n",
    "customer_1 = Customer(\"Sam\")\n",
    "customer_1.greet()\n",
    "customer_1.purchase(\"chips\", \"chocolate\", \"orange juice\")\n",
    "print(\"-----------------------------\")\n",
    "customer_2 = Customer(\"David\")\n",
    "customer_2.greet(\"David\")\n",
    "customer_2.purchase(\"orange juice\")"
   ]
  },
  {
   "cell_type": "markdown",
   "metadata": {},
   "source": [
    "## Task 3"
   ]
  },
  {
   "cell_type": "code",
   "execution_count": 6,
   "metadata": {},
   "outputs": [
    {
     "name": "stdout",
     "output_type": "stream",
     "text": [
      "Kunfu is a Male Panda Bear who is 5 years old\n",
      "Pan Pan is a Female Panda Bear who is 3 years old\n",
      "Ming Ming is a Female Panda Bear who is 8 years old\n",
      "===========================\n",
      "Pan Pan sleeps 10 hours daily and should have Broccoli Chicken\n",
      "Kunfu sleeps 4 hours daily and should have Mixed Veggies\n",
      "Ming Ming sleeps None hours daily and should have Bamboo leaves\n"
     ]
    }
   ],
   "source": [
    "class Panda:\n",
    "    def __init__(self, name, gender, age):\n",
    "        self.name = name\n",
    "        self.gender = gender\n",
    "        self.age = age\n",
    "    def sleep(self, hours=None):\n",
    "        diet = ''\n",
    "        if hours == None:\n",
    "            diet = 'Bamboo leaves'\n",
    "        elif hours in range(3,6):\n",
    "            diet = 'Mixed Veggies'\n",
    "        elif hours in range(6,9):\n",
    "            diet = 'Eggplant & Tofu'\n",
    "        elif hours in range(9,12):\n",
    "            diet = 'Broccoli Chicken'\n",
    "        \n",
    "        return f'{self.name} sleeps {hours} hours daily and should have {diet}'\n",
    "\n",
    "\n",
    "panda1 = Panda(\"Kunfu\",\"Male\", 5)\n",
    "panda2=Panda(\"Pan Pan\",\"Female\",3)\n",
    "panda3=Panda(\"Ming Ming\",\"Female\",8)\n",
    "print(\"{} is a {} Panda Bear who is {} years old\".format(panda1.name,panda1.gender,panda1.age))\n",
    "print(\"{} is a {} Panda Bear who is {} years old\".format(panda2.name,panda2.gender,panda2.age))\n",
    "print(\"{} is a {} Panda Bear who is {} years old\".format(panda3.name,panda3.gender,panda3.age))\n",
    "print(\"===========================\")\n",
    "print(panda2.sleep(10))\n",
    "print(panda1.sleep(4))\n",
    "print(panda3.sleep())"
   ]
  },
  {
   "cell_type": "markdown",
   "metadata": {},
   "source": [
    "## Task 4"
   ]
  },
  {
   "cell_type": "code",
   "execution_count": 8,
   "metadata": {},
   "outputs": [
    {
     "name": "stdout",
     "output_type": "stream",
     "text": [
      "White cat is sitting\n",
      "Black cat is sitting\n",
      "Brown cat is jumping\n",
      "Red cat is purring\n",
      "Blue cat is sitting\n",
      "Purple cat is jumping\n"
     ]
    }
   ],
   "source": [
    "class Cat:\n",
    "    def __init__(self, *args):\n",
    "        self.color = 'White'\n",
    "        self.action = 'sitting'\n",
    "        if len(args) == 1:\n",
    "            self.color = args[0]\n",
    "        elif len(args) == 2:\n",
    "            self.color = args[0]\n",
    "            self.action = args[1]\n",
    "\n",
    "    def printCat(self):\n",
    "        print(f'{self.color} cat is {self.action}')\n",
    "\n",
    "    def changeColor(self, color):\n",
    "        self.color = color\n",
    "\n",
    "c1 = Cat()\n",
    "c2 = Cat(\"Black\")\n",
    "c3 = Cat(\"Brown\", \"jumping\")\n",
    "c4 = Cat(\"Red\", \"purring\")\n",
    "c1.printCat()\n",
    "c2.printCat()\n",
    "c3.printCat()\n",
    "c4.printCat()\n",
    "c1.changeColor(\"Blue\")\n",
    "c3.changeColor(\"Purple\")\n",
    "c1.printCat()\n",
    "c3.printCat()"
   ]
  },
  {
   "cell_type": "markdown",
   "metadata": {},
   "source": [
    "## Task 5"
   ]
  },
  {
   "cell_type": "code",
   "execution_count": 1,
   "metadata": {},
   "outputs": [
    {
     "name": "stdout",
     "output_type": "stream",
     "text": [
      "--------------------------------\n",
      "Hello default student\n",
      "Your average quiz score is 3.3333333333333335\n",
      "--------------------------------\n",
      "Hello Harry\n",
      "Your average quiz score is 6.0\n",
      "--------------------------------\n",
      "Hello Hermione\n",
      "Your average quiz score is 9.666666666666666\n"
     ]
    }
   ],
   "source": [
    "class Student:\n",
    "    def __init__(self, name = 'default student'):\n",
    "        self.name = name\n",
    "        self.score = 0\n",
    "\n",
    "    def quizcalc(self, *score):\n",
    "        total = 0\n",
    "        for num in score:\n",
    "            total += num\n",
    "        self.score = total/3\n",
    "\n",
    "    def printdetail(self):\n",
    "        print(\"Hello\", self.name)\n",
    "        print(f'Your average quiz score is {self.score}')\n",
    "\n",
    "s1 = Student()\n",
    "s1.quizcalc(10)\n",
    "print('--------------------------------')\n",
    "s1.printdetail()\n",
    "s2 = Student('Harry')\n",
    "s2.quizcalc(10,8)\n",
    "print('--------------------------------')\n",
    "s2.printdetail()\n",
    "s3 = Student('Hermione')\n",
    "s3.quizcalc(10,9,10)\n",
    "print('--------------------------------')\n",
    "s3.printdetail()"
   ]
  },
  {
   "cell_type": "markdown",
   "metadata": {},
   "source": [
    "## Task 6"
   ]
  },
  {
   "cell_type": "code",
   "execution_count": 10,
   "metadata": {},
   "outputs": [
    {
     "name": "stdout",
     "output_type": "stream",
     "text": [
      "(0, 0)\n",
      "(0, 1)\n",
      "(-1, 1)\n",
      "(-1, 0)\n"
     ]
    }
   ],
   "source": [
    "class Vehicle:\n",
    "    def __init__(self):\n",
    "        self.x= 0\n",
    "        self.y = 0\n",
    "    \n",
    "    def moveUp(self):\n",
    "        self.y += 1\n",
    "    def moveDown(self):\n",
    "        self.y -= 1\n",
    "    def moveLeft(self):\n",
    "        self.x -= 1\n",
    "    def moveRight(self):\n",
    "        self.x += 1\n",
    "\n",
    "    def print_position(self):\n",
    "        print((self.x, self.y))\n",
    "\n",
    "car = Vehicle()\n",
    "car.print_position()\n",
    "car.moveUp()\n",
    "car.print_position()\n",
    "car.moveLeft()\n",
    "car.print_position()\n",
    "car.moveDown()\n",
    "car.print_position()\n",
    "car.moveRight()"
   ]
  },
  {
   "cell_type": "markdown",
   "metadata": {},
   "source": [
    "## Task 7"
   ]
  },
  {
   "cell_type": "code",
   "execution_count": 13,
   "metadata": {},
   "outputs": [
    {
     "name": "stdout",
     "output_type": "stream",
     "text": [
      "Horray! A new programmer is born\n",
      "Name: Ethen Hunt\n",
      "Language: Java\n",
      "Experience: 10 years.\n",
      "--------------------------\n",
      "Horray! A new programmer is born\n",
      "Name: James Bond\n",
      "Language: C++\n",
      "Experience: 7 years.\n",
      "--------------------------\n",
      "Horray! A new programmer is born\n",
      "Name: Jon Snow\n",
      "Language: Python\n",
      "Experience: 4 years.\n",
      "Updating experience of Jon Snow\n",
      "Name: Jon Snow\n",
      "Language: Python\n",
      "Experience: 9 years.\n"
     ]
    }
   ],
   "source": [
    "class Programmer:\n",
    "    def __init__(self, name, lng, exp):\n",
    "        self.name = name\n",
    "        self.language = lng\n",
    "        self.exp = exp\n",
    "        print(\"Horray! A new programmer is born\")\n",
    "\n",
    "    def addExp(self, exp):\n",
    "        print(\"Updating experience of\", self.name)\n",
    "        self.exp += exp\n",
    "    \n",
    "    def printDetails(self):\n",
    "        print('Name:', self.name)\n",
    "        print('Language:', self.language)\n",
    "        print('Experience:', self.exp, 'years.')\n",
    "\n",
    "p1 = Programmer(\"Ethen Hunt\", \"Java\", 10)\n",
    "p1.printDetails()\n",
    "print('--------------------------')\n",
    "p2 = Programmer(\"James Bond\", \"C++\", 7)\n",
    "p2.printDetails()\n",
    "print('--------------------------')\n",
    "p3 = Programmer(\"Jon Snow\", \"Python\", 4)\n",
    "p3.printDetails()\n",
    "p3.addExp(5)\n",
    "p3.printDetails()"
   ]
  },
  {
   "cell_type": "markdown",
   "metadata": {},
   "source": [
    "## Task 8"
   ]
  },
  {
   "cell_type": "code",
   "execution_count": 20,
   "metadata": {},
   "outputs": [
    {
     "name": "stdout",
     "output_type": "stream",
     "text": [
      "Name: Harry Potter\n",
      "ID: 123\n",
      "Department: CSE\n",
      "Daily Effort: 3 hours(s)\n",
      "Suggestion: Keep up the good work!\n",
      "========================\n",
      "Name: John Wick\n",
      "ID: 456\n",
      "Department: BBA\n",
      "Daily Effort: 2 hours(s)\n",
      "Suggestion: Should give more effort!\n",
      "========================\n",
      "Name: Naruto Uzumaki\n",
      "ID: 777\n",
      "Department: Ninja\n",
      "Daily Effort: 6 hours(s)\n",
      "Suggestion: Excellent! Now motivate others.\n"
     ]
    }
   ],
   "source": [
    "class Student:\n",
    "    def __init__(self, name, id, dept = 'CSE'):\n",
    "        self.name = name\n",
    "        self.id = id\n",
    "        self.dept = dept\n",
    "        self.effort = 0\n",
    "\n",
    "    def dailyEffort(self, effort):\n",
    "        self.effort = effort\n",
    "    \n",
    "    def printDetails(self):\n",
    "        print(\"Name:\", self.name)\n",
    "        print(\"ID:\", self.id)\n",
    "        print(\"Department:\", self.dept)\n",
    "        print(\"Daily Effort:\", self.effort, \"hours(s)\")\n",
    "\n",
    "        if self.effort <= 2:\n",
    "            print('Suggestion: Should give more effort!')\n",
    "        elif self.effort <= 4:\n",
    "            print(\"Suggestion: Keep up the good work!\")\n",
    "        else:\n",
    "            print(\"Suggestion: Excellent! Now motivate others.\")\n",
    "\n",
    "\n",
    "\n",
    "harry = Student('Harry Potter', 123)\n",
    "harry.dailyEffort(3)\n",
    "harry.printDetails()\n",
    "print('========================')\n",
    "john = Student(\"John Wick\", 456, \"BBA\")\n",
    "john.dailyEffort(2)\n",
    "john.printDetails()\n",
    "print('========================')\n",
    "naruto = Student(\"Naruto Uzumaki\", 777, \"Ninja\")\n",
    "naruto.dailyEffort(6)\n",
    "naruto.printDetails()"
   ]
  },
  {
   "cell_type": "markdown",
   "metadata": {},
   "source": [
    "## Task 9"
   ]
  },
  {
   "cell_type": "code",
   "execution_count": 3,
   "metadata": {},
   "outputs": [
    {
     "name": "stdout",
     "output_type": "stream",
     "text": [
      "=========================\n",
      "Name:  Thomas\n",
      "Age: 23\n",
      "Symptoms: Headache\n",
      "=========================\n",
      "Name:  Carol\n",
      "Age: 20\n",
      "Symptoms: Vomiting, Coughing\n",
      "=========================\n",
      "Name:  Mike\n",
      "Age: 25\n",
      "Symptoms: Fever, Headache, Coughing\n",
      "=========================\n"
     ]
    }
   ],
   "source": [
    "class Patient:\n",
    "    def __init__(self, name, age):\n",
    "        self.name = name\n",
    "        self.age = age \n",
    "        self.symptom = None\n",
    "    \n",
    "    def add_Symptom(self, *symptom):\n",
    "        self.symptom = symptom\n",
    "\n",
    "    def printPatientDetail(self):\n",
    "        print(\"Name: \", self.name)\n",
    "        print(\"Age:\", self.age)\n",
    "        \n",
    "        symptom = ''\n",
    "        for item in self.symptom:\n",
    "            symptom += item + '-'\n",
    "        print(\"Symptoms:\", symptom.strip('-').replace('-', ', '))\n",
    "\n",
    "\n",
    "p1 = Patient(\"Thomas\", 23)\n",
    "p1.add_Symptom(\"Headache\")\n",
    "p2 = Patient(\"Carol\", 20)\n",
    "p2.add_Symptom(\"Vomiting\", \"Coughing\")\n",
    "p3 = Patient(\"Mike\", 25)\n",
    "p3.add_Symptom(\"Fever\", \"Headache\", \"Coughing\")\n",
    "print(\"=========================\")\n",
    "p1.printPatientDetail()\n",
    "print(\"=========================\")\n",
    "p2.printPatientDetail()\n",
    "print(\"=========================\")\n",
    "p3.printPatientDetail()\n",
    "print(\"=========================\")"
   ]
  },
  {
   "cell_type": "markdown",
   "metadata": {},
   "source": [
    "## Task 10"
   ]
  },
  {
   "cell_type": "code",
   "execution_count": 3,
   "metadata": {},
   "outputs": [
    {
     "name": "stdout",
     "output_type": "stream",
     "text": [
      "=========================\n",
      "Name: Captain America\n",
      "Partner: Bucky Barnes\n",
      "Super powers: Stamina, Slowed ageing\n",
      "=========================\n",
      "Name: Doctor Strange\n",
      "Partner: Ancient One\n",
      "Super powers: Mastery of magic\n",
      "=========================\n",
      "Name: Iron Man\n",
      "Partner: War Machine\n",
      "Super powers: Genius level intellect, Scientist \n",
      "=========================\n"
     ]
    }
   ],
   "source": [
    "class Avengers:\n",
    "    def __init__(self, name, partner):\n",
    "        self.name = name\n",
    "        self.partner = partner\n",
    "        self.powers = None\n",
    "\n",
    "    def super_powers(self, *powers):\n",
    "        self.powers = powers\n",
    "\n",
    "    def printAvengersDetail(self):\n",
    "        print(\"Name:\", self.name)\n",
    "        print(\"Partner:\", self.partner)\n",
    "        \n",
    "        powers = ''\n",
    "        for power in self.powers:\n",
    "            powers += power + '-'\n",
    "        print('Super powers:', powers.strip('-').replace('-', ', '))\n",
    "\n",
    "a1 = Avengers('Captain America', 'Bucky Barnes')\n",
    "a1.super_powers('Stamina', 'Slowed ageing')\n",
    "a2 = Avengers('Doctor Strange', 'Ancient One')\n",
    "a2.super_powers('Mastery of magic')\n",
    "a3 = Avengers('Iron Man', 'War Machine')\n",
    "a3.super_powers('Genius level intellect', 'Scientist ')\n",
    "print(\"=========================\")\n",
    "a1.printAvengersDetail()\n",
    "print(\"=========================\")\n",
    "a2.printAvengersDetail()\n",
    "print(\"=========================\")\n",
    "a3.printAvengersDetail()\n",
    "print(\"=========================\")"
   ]
  },
  {
   "cell_type": "markdown",
   "metadata": {},
   "source": [
    "## Task 11"
   ]
  },
  {
   "cell_type": "code",
   "execution_count": 39,
   "metadata": {},
   "outputs": [
    {
     "name": "stdout",
     "output_type": "stream",
     "text": [
      "Name: Naruto\n",
      "Rank: Genin\n",
      "Number of mission: 5\n",
      "Salary: 250\n",
      "====================\n",
      "Name: Shikamaru\n",
      "Rank: Genin\n",
      "Number of mission: 0\n",
      "Salary: 0\n",
      "Name: Shikamaru\n",
      "Rank: Chunin\n",
      "Number of mission: 10\n",
      "Salary: 1000\n",
      "====================\n",
      "Name: Neiji\n",
      "Rank: Jonin\n",
      "Number of mission: 5\n",
      "Salary: 2500\n"
     ]
    }
   ],
   "source": [
    "class Shinobi:\n",
    "    def __init__(self, name, rank):\n",
    "        self.name = name\n",
    "        self.rank = rank\n",
    "        self.missions = 0\n",
    "        self.salary = 0\n",
    "\n",
    "    def calSalary(self, missions):\n",
    "        self.missions = missions\n",
    "\n",
    "        if self.rank == \"Genin\":\n",
    "            self.salary = self.missions * 50\n",
    "        elif self.rank == \"Chunin\":\n",
    "            self.salary = self.missions * 100\n",
    "        else:\n",
    "            self.salary = self.missions * 500\n",
    "\n",
    "    def changeRank(self, rank):\n",
    "        self.rank = rank\n",
    "\n",
    "    def printInfo(self):\n",
    "        print(\"Name:\", self.name)\n",
    "        print(\"Rank:\", self.rank)\n",
    "        print(\"Number of mission:\", self.missions)\n",
    "        print(\"Salary:\", self.salary)\n",
    "\n",
    "\n",
    "naruto = Shinobi(\"Naruto\", \"Genin\")\n",
    "naruto.calSalary(5)\n",
    "naruto.printInfo()\n",
    "print('====================')\n",
    "shikamaru = Shinobi('Shikamaru', \"Genin\")\n",
    "shikamaru.printInfo()\n",
    "shikamaru.changeRank(\"Chunin\")\n",
    "shikamaru.calSalary(10)\n",
    "shikamaru.printInfo()\n",
    "print('====================')\n",
    "neiji = Shinobi(\"Neiji\", \"Jonin\")\n",
    "neiji.calSalary(5)\n",
    "neiji.printInfo()"
   ]
  },
  {
   "cell_type": "markdown",
   "metadata": {},
   "source": [
    "## Task 12"
   ]
  },
  {
   "cell_type": "code",
   "execution_count": 50,
   "metadata": {},
   "outputs": [
    {
     "name": "stdout",
     "output_type": "stream",
     "text": [
      "**********************\n",
      "Customer Name: No name set\n",
      "Product product_weight: 0\n",
      "Total fee: 0\n",
      "**********************\n",
      "Customer Name: Bob The Builder\n",
      "Product product_weight: 0\n",
      "Total fee: 0\n",
      "----------------------------\n",
      "Customer Name: Bob The Builder\n",
      "Product product_weight: 15\n",
      "Total fee: 350\n",
      "**********************\n",
      "Customer Name: Dora The Explorer\n",
      "Product product_weight: 10\n",
      "Total fee: 300\n"
     ]
    }
   ],
   "source": [
    "class ParcelKoro:\n",
    "    def __init__(self, name = 'No name set', weight = 0):\n",
    "        self.name = name\n",
    "        self.product_weight = weight\n",
    "        self.fee = 0\n",
    "\n",
    "    def calculateFee(self, location = None):\n",
    "        fee = 0\n",
    "        if self.product_weight == 0:\n",
    "            self.fee = fee\n",
    "        else:\n",
    "            if location != None:\n",
    "                fee = (self.product_weight * 20) + 100\n",
    "            else:\n",
    "                fee = (self.product_weight * 20) + 50\n",
    "        self.fee = fee\n",
    "\n",
    "    def printDetails(self):\n",
    "        print(\"Customer Name:\", self.name)\n",
    "        print(\"Product product_weight:\", self.product_weight)\n",
    "        print(\"Total fee:\", self.fee)\n",
    "             \n",
    "\n",
    "    \n",
    "\n",
    "print(\"**********************\")\n",
    "p1 = ParcelKoro()\n",
    "p1.calculateFee()\n",
    "p1.printDetails()\n",
    "print(\"**********************\")\n",
    "p2 = ParcelKoro('Bob The Builder')\n",
    "p2.calculateFee()\n",
    "p2.printDetails()\n",
    "print(\"----------------------------\")\n",
    "p2.product_weight = 15\n",
    "p2.calculateFee()\n",
    "p2.printDetails()\n",
    "print(\"**********************\")\n",
    "p3 = ParcelKoro('Dora The Explorer', 10)\n",
    "p3.calculateFee('Dhanmondi')\n",
    "p3.printDetails()"
   ]
  },
  {
   "cell_type": "markdown",
   "metadata": {},
   "source": [
    "## Task 13"
   ]
  },
  {
   "cell_type": "code",
   "execution_count": 53,
   "metadata": {},
   "outputs": [
    {
     "name": "stdout",
     "output_type": "stream",
     "text": [
      "Name: New Batsman\n",
      "Runs Scored: 6101, Balls Faced: 7380\n",
      "============================\n",
      "Name: Liton Das\n",
      "Runs Scored: 678, Balls Faced: 773\n",
      "----------------------------\n",
      "87.71021992238033\n",
      "============================\n",
      "Name: Shakib Al Hasan\n",
      "Runs Scored: 6101, Balls Faced: 7380\n",
      "----------------------------\n",
      "82.66937669376694\n"
     ]
    }
   ],
   "source": [
    "class Batsman:\n",
    "    def __init__(self, *args):\n",
    "        if len(args) == 2:\n",
    "            self.name = 'New Batsman'\n",
    "            self.runs = args[0]\n",
    "            self.balls = args[1]\n",
    "        elif len(args) == 3:\n",
    "            self.name = args[0]\n",
    "            self.runs = args[1]\n",
    "            self.balls = args[2]\n",
    "\n",
    "    def setName(self, name):\n",
    "        self.name = name\n",
    "    def battingStrikeRate(self):\n",
    "        return (self.runs / self.balls) * 100\n",
    "\n",
    "    def printCareerStatistics(self):\n",
    "        print(\"Name:\", self.name)\n",
    "        print(f'Runs Scored: {self.runs}, Balls Faced: {self.balls}')\n",
    "\n",
    "b1 = Batsman(6101, 7380)\n",
    "b1.printCareerStatistics()\n",
    "print(\"============================\")\n",
    "b2 = Batsman(\"Liton Das\", 678, 773)\n",
    "b2.printCareerStatistics()\n",
    "print(\"----------------------------\")\n",
    "print(b2.battingStrikeRate())\n",
    "print(\"============================\")\n",
    "b1.setName(\"Shakib Al Hasan\")\n",
    "b1.printCareerStatistics()\n",
    "print(\"----------------------------\")\n",
    "print(b1.battingStrikeRate())"
   ]
  },
  {
   "cell_type": "markdown",
   "metadata": {},
   "source": [
    "## Task 14"
   ]
  },
  {
   "cell_type": "code",
   "execution_count": 56,
   "metadata": {},
   "outputs": [
    {
     "name": "stdout",
     "output_type": "stream",
     "text": [
      "===================\n",
      "Name: Manchester United\n",
      "Song: Glory Glory Man United\n",
      "Total No of title: 0\n",
      "##################\n",
      "Name: Manchester United\n",
      "Song: Glory Glory Man United\n",
      "Total No of title: 1\n",
      "===================\n",
      "Name: Chelsea\n",
      "Song: No Slogan\n",
      "Total No of title: 0\n",
      "Name: Chelsea\n",
      "Song: Keep the blue flag flying high\n",
      "Total No of title: 0\n"
     ]
    }
   ],
   "source": [
    "class EPL_Team:\n",
    "    def __init__(self, name, song = 'No Slogan'):\n",
    "        self.name = name\n",
    "        self.song = song\n",
    "        self.title = 0\n",
    "\n",
    "    def increaseTitle(self):\n",
    "        self.title += 1\n",
    "    def changeSong(self, song):\n",
    "        self.song = song\n",
    "    \n",
    "    def showClubInfo(self):\n",
    "        output = f\"Name: {self.name}\\nSong: {self.song}\\nTotal No of title: {self.title}\"\n",
    "        return output\n",
    "\n",
    "manu = EPL_Team('Manchester United', 'Glory Glory Man United') \n",
    "chelsea = EPL_Team('Chelsea') \n",
    "print('===================') \n",
    "print(manu.showClubInfo())\n",
    "print('##################') \n",
    "manu.increaseTitle() \n",
    "print(manu.showClubInfo()) \n",
    "print('===================') \n",
    "print(chelsea.showClubInfo()) \n",
    "chelsea.changeSong('Keep the blue flag flying high') \n",
    "print(chelsea.showClubInfo())"
   ]
  },
  {
   "cell_type": "markdown",
   "metadata": {},
   "source": [
    "## Task 15"
   ]
  },
  {
   "cell_type": "code",
   "execution_count": 63,
   "metadata": {},
   "outputs": [
    {
     "name": "stdout",
     "output_type": "stream",
     "text": [
      "Default Account\n",
      "0.0\n",
      "------------------------\n",
      "Oliver\n",
      "10000.0\n",
      "------------------------\n",
      "Liam\n",
      "0.0\n",
      "------------------------\n",
      "Noah\n",
      "400\n",
      "------------------------\n",
      "Sorry, Withdraw unsuccessful! The account balance after deducting withdraw amount is equal to or less than minimum.\n",
      "------------------------\n",
      "Sorry, Withdraw unsuccessful! The account balance after deducting withdraw amount is equal to or less than minimum.\n",
      "------------------------\n",
      "Withdraw successful! New balance is: 3071.0\n"
     ]
    }
   ],
   "source": [
    "class Account:\n",
    "    def __init__(self, name = 'Default Account', balance = 0.0):\n",
    "        self.name = name\n",
    "        self.balance = balance\n",
    "    \n",
    "    def withdraw(self, amount):\n",
    "        if self.balance - amount > 3070:\n",
    "            self.balance -= amount\n",
    "            print('Withdraw successful! New balance is:', self.balance)\n",
    "        else:\n",
    "            print(\"Sorry, Withdraw unsuccessful! The account balance after deducting withdraw amount is equal to or less than minimum.\")\n",
    "\n",
    "    def details(self):\n",
    "        return f\"{self.name}\\n{self.balance}\"\n",
    "\n",
    "a1 = Account()\n",
    "print(a1.details())\n",
    "print(\"------------------------\")\n",
    "a1.name = \"Oliver\"\n",
    "a1.balance = 10000.0\n",
    "print(a1.details())\n",
    "print(\"------------------------\")\n",
    "a2 = Account(\"Liam\")\n",
    "print(a2.details())\n",
    "print(\"------------------------\")\n",
    "a3 = Account(\"Noah\",400)\n",
    "print(a3.details())\n",
    "print(\"------------------------\")\n",
    "a1.withdraw(6930)\n",
    "print(\"------------------------\")\n",
    "a2.withdraw(600)\n",
    "print(\"------------------------\")\n",
    "a1.withdraw(6929)"
   ]
  },
  {
   "cell_type": "markdown",
   "metadata": {},
   "source": [
    "## Task 16"
   ]
  },
  {
   "cell_type": "code",
   "execution_count": 65,
   "metadata": {},
   "outputs": [
    {
     "name": "stdout",
     "output_type": "stream",
     "text": [
      "Author Name: Humayun Ahmed\n",
      "--------\n",
      "List of Books:\n",
      "Deyal\n",
      "Megher Opor Bari\n",
      "===================\n",
      "Default\n",
      "===================\n",
      "Author Name: Mario Puzo\n",
      "--------\n",
      "List of Books:\n",
      "The Godfather\n",
      "Omerta\n",
      "The Sicilian\n",
      "===================\n",
      "Author Name: Paolo Coelho\n",
      "--------\n",
      "List of Books:\n",
      "The Alchemist\n",
      "The Fifth Mountain\n"
     ]
    }
   ],
   "source": [
    "class Author:\n",
    "    def __init__(self, name = 'Default', *books):\n",
    "        self.name = name\n",
    "        self.books = list(books)\n",
    "\n",
    "    def changeName(self, name):\n",
    "        self.name = name\n",
    "    def addBooks(self, *books):\n",
    "        for book in books:\n",
    "            self.books.append(book)\n",
    "    \n",
    "    def printDetails(self):\n",
    "        print('Author Name:', self.name)\n",
    "        print(\"--------\")\n",
    "        print('List of Books:')\n",
    "        for book in self.books:\n",
    "            print(book)\n",
    "\n",
    "auth1 = Author('Humayun Ahmed')\n",
    "auth1.addBooks('Deyal', 'Megher Opor Bari')\n",
    "auth1.printDetails()\n",
    "print('===================')\n",
    "auth2 = Author()\n",
    "print(auth2.name)\n",
    "auth2.changeName('Mario Puzo')\n",
    "auth2.addBooks('The Godfather', 'Omerta', 'The Sicilian')\n",
    "print('===================')\n",
    "auth2.printDetails()\n",
    "print('===================')\n",
    "auth3 = Author('Paolo Coelho', 'The Alchemist', 'The Fifth Mountain')\n",
    "auth3.printDetails()"
   ]
  }
 ],
 "metadata": {
  "interpreter": {
   "hash": "0f5bd8de185ce23dc2479e66b30b06434d818f5a8623ceb8d2c8fd92ecfcea07"
  },
  "kernelspec": {
   "display_name": "Python 3.9.2 64-bit",
   "language": "python",
   "name": "python3"
  },
  "language_info": {
   "codemirror_mode": {
    "name": "ipython",
    "version": 3
   },
   "file_extension": ".py",
   "mimetype": "text/x-python",
   "name": "python",
   "nbconvert_exporter": "python",
   "pygments_lexer": "ipython3",
   "version": "3.9.2"
  },
  "orig_nbformat": 4
 },
 "nbformat": 4,
 "nbformat_minor": 2
}
