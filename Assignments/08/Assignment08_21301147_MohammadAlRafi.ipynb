{
 "cells": [
  {
   "cell_type": "markdown",
   "metadata": {},
   "source": [
    "## Task 1"
   ]
  },
  {
   "cell_type": "code",
   "execution_count": 15,
   "metadata": {},
   "outputs": [
    {
     "name": "stdout",
     "output_type": "stream",
     "text": [
      "RealPart: 1.0\n",
      "ImaginaryPart: 1.0\n",
      "---------\n",
      "RealPart: 5.0\n",
      "ImaginaryPart: 7.0\n"
     ]
    }
   ],
   "source": [
    "class RealNumber:\n",
    "    def __init__(self, r=0):\n",
    "        self.__realValue = r\n",
    "    def getRealValue(self):\n",
    "        return self.__realValue\n",
    "    def setRealValue(self, r):\n",
    "        self.__realValue = r\n",
    "    def __str__(self):\n",
    "        return 'RealPart: '+str(self.getRealValue())\n",
    "\n",
    "class ComplexNumber(RealNumber):\n",
    "    def __init__(self, real = 1.0, imaginary = 1.0):\n",
    "        super().__init__(float(real))\n",
    "        self.imaginary = float(imaginary)\n",
    "    def __str__(self):\n",
    "        output = 'RealPart: ' + str(self.getRealValue())\n",
    "        output += '\\nImaginaryPart: ' + str(self.imaginary)\n",
    "        return output\n",
    "\n",
    "cn1 = ComplexNumber()\n",
    "print(cn1)\n",
    "print('---------')\n",
    "cn2 = ComplexNumber(5,7)\n",
    "print(cn2)"
   ]
  },
  {
   "cell_type": "markdown",
   "metadata": {},
   "source": [
    "## Task 2"
   ]
  },
  {
   "cell_type": "code",
   "execution_count": 28,
   "metadata": {},
   "outputs": [
    {
     "name": "stdout",
     "output_type": "stream",
     "text": [
      "8\n",
      "2 + 1i\n",
      "3 + 5i\n",
      "5 + 6i\n",
      "-1 - 4i\n"
     ]
    }
   ],
   "source": [
    "class RealNumber:\n",
    "    def __init__(self, number=0):\n",
    "        self.number = number\n",
    "    def __add__(self, anotherRealNumber):\n",
    "        return self.number + anotherRealNumber.number\n",
    "    def __sub__(self, anotherRealNumber):\n",
    "        return self.number - anotherRealNumber.number\n",
    "    def __str__(self):\n",
    "        return str(self.number)\n",
    "\n",
    "class ComplexNumber(RealNumber):\n",
    "    def __init__(self, real, imaginary):\n",
    "        try:\n",
    "            real = int(real)\n",
    "            super().__init__(real)\n",
    "        except:\n",
    "            super().__init__(real.number)\n",
    "\n",
    "        self.imaginary = imaginary\n",
    "    \n",
    "    def __add__(self, anotherImaginary):\n",
    "        newReal = self.number + anotherImaginary.number\n",
    "        newImaginary = self.imaginary + anotherImaginary.imaginary\n",
    "        return ComplexNumber(newReal, newImaginary)\n",
    "\n",
    "    def __sub__(self, anotherImaginary):\n",
    "        newReal = self.number - anotherImaginary.number\n",
    "        newImaginary = self.imaginary - anotherImaginary.imaginary\n",
    "        return ComplexNumber(newReal, newImaginary)\n",
    "\n",
    "    def __str__(self):\n",
    "        if self.imaginary > 0:\n",
    "            return f\"{self.number} + {self.imaginary}i\"\n",
    "        else:\n",
    "            return f\"{self.number} - {-self.imaginary}i\"\n",
    "\n",
    "            \n",
    "\n",
    "r1 = RealNumber(3)\n",
    "r2 = RealNumber(5)\n",
    "print(r1+r2)\n",
    "cn1 = ComplexNumber(2, 1)\n",
    "print(cn1)\n",
    "cn2 = ComplexNumber(r1, 5)\n",
    "print(cn2)\n",
    "cn3 = cn1 + cn2\n",
    "print(cn3)\n",
    "cn4 = cn1 - cn2\n",
    "print(cn4)\n"
   ]
  },
  {
   "cell_type": "markdown",
   "metadata": {},
   "source": [
    "## Task 3"
   ]
  },
  {
   "cell_type": "code",
   "execution_count": 32,
   "metadata": {},
   "outputs": [
    {
     "name": "stdout",
     "output_type": "stream",
     "text": [
      "Number of Checking Accounts:  0\n",
      "Account Balance: 0\n",
      "Account Balance: 100.0\n",
      "Account Balance: 200.0\n",
      "Number of Checking Accounts:  3\n"
     ]
    }
   ],
   "source": [
    "class Account:\n",
    "    def __init__(self, balance):\n",
    "        self._balance = balance\n",
    "    def getBalance(self):\n",
    "        return self._balance\n",
    "\n",
    "class CheckingAccount(Account):\n",
    "    numberOfAccount = 0\n",
    "    \n",
    "    def __init__(self, amount = 0):\n",
    "        super().__init__(amount)\n",
    "        CheckingAccount.numberOfAccount += 1\n",
    "    \n",
    "    def __str__(self):\n",
    "        return 'Account Balance: ' + str(self.getBalance())\n",
    "    \n",
    "\n",
    "print('Number of Checking Accounts: ', CheckingAccount.numberOfAccount)\n",
    "print(CheckingAccount())\n",
    "print(CheckingAccount(100.00))\n",
    "print(CheckingAccount(200.00))\n",
    "print('Number of Checking Accounts: ', CheckingAccount.numberOfAccount)"
   ]
  },
  {
   "cell_type": "markdown",
   "metadata": {},
   "source": [
    "## Task 4"
   ]
  },
  {
   "cell_type": "code",
   "execution_count": 33,
   "metadata": {},
   "outputs": [
    {
     "name": "stdout",
     "output_type": "stream",
     "text": [
      "----Printing Detail----\n",
      "Do not eat the Mango .\n",
      "Mangos are bad for you\n",
      "----Printing Detail----\n",
      "Eat the Jackfruit .\n",
      "Jackfruits are good for you\n"
     ]
    }
   ],
   "source": [
    "class Fruit:\n",
    "    def __init__(self, formalin=False, name=''):\n",
    "        self.__formalin = formalin\n",
    "        self.name = name\n",
    "\n",
    "    def getName(self):\n",
    "        return self.name\n",
    "\n",
    "    def hasFormalin(self):\n",
    "        return self.__formalin\n",
    "\n",
    "class testFruit:\n",
    "    def test(self, f):\n",
    "        print('----Printing Detail----')\n",
    "        if f.hasFormalin():\n",
    "            print('Do not eat the',f.getName(),'.')\n",
    "            print(f)\n",
    "        else:\n",
    "            print('Eat the',f.getName(),'.')\n",
    "            print(f)\n",
    "\n",
    "class Mango(Fruit):\n",
    "    def __init__(self):\n",
    "        super().__init__(formalin=True, name='Mango')\n",
    "    def __str__(self):\n",
    "        return f\"{self.name}s are bad for you\"\n",
    "\n",
    "class Jackfruit(Fruit):\n",
    "    def __init__(self):\n",
    "        super().__init__(formalin=False, name='Jackfruit')\n",
    "    def __str__(self):\n",
    "        return f\"{self.name}s are good for you\"\n",
    "\n",
    "\n",
    "m = Mango()\n",
    "j = Jackfruit()\n",
    "t1 = testFruit()\n",
    "t1.test(m)\n",
    "t1.test(j)"
   ]
  },
  {
   "cell_type": "markdown",
   "metadata": {},
   "source": [
    "## Task 5"
   ]
  },
  {
   "cell_type": "code",
   "execution_count": 46,
   "metadata": {},
   "outputs": [
    {
     "name": "stdout",
     "output_type": "stream",
     "text": [
      "Marks: 100 Time: 90 minutes Number of Parts: 4\n",
      "----------------------------------\n",
      "Maths , English , Physics , HigherMaths\n",
      "Part 1 - Maths\n",
      "Part 2 - English\n",
      "Part 3 - Physics\n",
      "Part 4 - HigherMaths\n",
      "\n",
      "==================================\n",
      "Marks: 100 Time: 120 minutes Number of Parts: 5\n",
      "----------------------------------\n",
      "Maths , English , Physics , HigherMaths , Drawing\n",
      "Part 1 - Maths\n",
      "Part 2 - English\n",
      "Part 3 - Physics\n",
      "Part 4 - HigherMaths\n",
      "Part 5 - Drawing\n",
      "\n"
     ]
    }
   ],
   "source": [
    "class Exam:\n",
    "    def __init__(self,marks):\n",
    "        self.marks = marks\n",
    "        self.time = 60\n",
    "    def examSyllabus(self):\n",
    "        return \"Maths , English\"\n",
    "    def examParts(self):\n",
    "        return \"Part 1 - Maths\\nPart 2 - English\\n\"\n",
    "\n",
    "class ScienceExam(Exam):\n",
    "    def __init__(self, marks, time, *subjects):\n",
    "        super().__init__(marks)\n",
    "        self.time = time\n",
    "        self.subjects = subjects\n",
    "    \n",
    "    def examSyllabus(self):\n",
    "        output = super().examSyllabus()\n",
    "        for sub in self.subjects:\n",
    "            output += ' , ' + sub\n",
    "        return output\n",
    "    def examParts(self):\n",
    "        output = super().examParts()\n",
    "        for sub in self.subjects:\n",
    "            output += f'Part {self.subjects.index(sub) + 3} - {sub}\\n'\n",
    "        return output\n",
    "    def __str__(self):\n",
    "        return f\"Marks: {self.marks} Time: {self.time} minutes Number of Parts: {len(self.subjects)+2}\"\n",
    "\n",
    "engineering = ScienceExam(100,90,\"Physics\",\"HigherMaths\")\n",
    "print(engineering)\n",
    "print('----------------------------------')\n",
    "print(engineering.examSyllabus())\n",
    "print(engineering.examParts())\n",
    "print('==================================')\n",
    "architecture = ScienceExam(100,120,\"Physics\",\"HigherMaths\",\"Drawing\")\n",
    "print(architecture)\n",
    "print('----------------------------------')\n",
    "print(architecture.examSyllabus())\n",
    "print(architecture.examParts())"
   ]
  },
  {
   "cell_type": "markdown",
   "metadata": {},
   "source": [
    "## Task 6"
   ]
  },
  {
   "cell_type": "code",
   "execution_count": 49,
   "metadata": {},
   "outputs": [
    {
     "name": "stdout",
     "output_type": "stream",
     "text": [
      "Shape name: Sphere, Area Fromula: 4 * pi * r * r\n",
      "----------------------------------\n",
      "Raidus: 5, Height: No need \n",
      "Area: 314.159\n",
      "==================================\n",
      "Shape name: Cylinder, Area Fromula: 2 * pi * r * (r + h)\n",
      "----------------------------------\n",
      "Raidus: 5, Height: 10 \n",
      "Area: 471.2385\n"
     ]
    }
   ],
   "source": [
    "class Shape3D:\n",
    "    pi = 3.14159\n",
    "    def __init__(self, name = 'Default', radius = 0):\n",
    "        self._area = 0\n",
    "        self._name = name\n",
    "        self._height = 'No need'\n",
    "        self._radius = radius\n",
    "\n",
    "    def calc_surface_area(self):\n",
    "        return 2 * Shape3D.pi * self._radius\n",
    "\n",
    "    def __str__(self):\n",
    "        return \"Radius: \"+str(self._radius)\n",
    "\n",
    "class Sphere(Shape3D):\n",
    "    def __init__(self, name, radius):\n",
    "        super().__init__(name, radius)\n",
    "        print(f'Shape name: {self._name}, Area Fromula: 4 * pi * r * r')\n",
    "    \n",
    "    def calc_surface_area(self):\n",
    "        self._area =  super().calc_surface_area() * 2 * self._radius\n",
    "    \n",
    "    def __str__(self):\n",
    "        return f'Raidus: {self._radius}, Height: {self._height} \\nArea: {self._area}'\n",
    "\n",
    "class Cylinder(Shape3D):\n",
    "    def __init__(self, name, radius, height):\n",
    "        super().__init__(name, radius)\n",
    "        self._height = height\n",
    "        print(f'Shape name: {self._name}, Area Fromula: 2 * pi * r * (r + h)')\n",
    "    \n",
    "    def calc_surface_area(self):\n",
    "        self._area =  super().calc_surface_area() * (self._radius + self._height)\n",
    "    \n",
    "    def __str__(self):\n",
    "        return f'Raidus: {self._radius}, Height: {self._height} \\nArea: {self._area}'\n",
    "\n",
    "sph = Sphere('Sphere', 5)\n",
    "print('----------------------------------')\n",
    "sph.calc_surface_area()\n",
    "print(sph)\n",
    "print('==================================')\n",
    "cyl = Cylinder('Cylinder', 5, 10)\n",
    "print('----------------------------------')\n",
    "cyl.calc_surface_area()\n",
    "print(cyl)"
   ]
  },
  {
   "cell_type": "markdown",
   "metadata": {},
   "source": [
    "## Task 7"
   ]
  },
  {
   "cell_type": "code",
   "execution_count": 54,
   "metadata": {},
   "outputs": [
    {
     "name": "stdout",
     "output_type": "stream",
     "text": [
      "\n",
      "------------Basic Info:--------------\n",
      "Name: Default, HP: 0, Weakness: None\n",
      "Main type: Unknown\n",
      "Basic move: Quick Attack\n",
      "\n",
      "------------Pokemon 1 Info:-------------\n",
      "Name: Charmander, HP: 39, Weakness: Water\n",
      "Main type: Fire\n",
      "Basic move: Quick Attack\n",
      "\n",
      "------------Pokemon 2 Info:-------------\n",
      "Name: Charizard, HP: 78, Weakness: Water\n",
      "Main type: Fire, Secondary type: Flying\n",
      "Basic move: Quick Attack \n",
      "Other move: Fire Spin, Fire Blaze\n"
     ]
    }
   ],
   "source": [
    "class PokemonBasic:\n",
    "    def __init__(self, name = 'Default', hp = 0, weakness = 'None', type = 'Unknown'):\n",
    "        self.name = name\n",
    "        self.hit_point = hp\n",
    "        self.weakness = weakness\n",
    "        self.type = type\n",
    "\n",
    "    def get_type(self):\n",
    "        return 'Main type: ' + self.type\n",
    "\n",
    "    def get_move(self):\n",
    "        return 'Basic move: ' + 'Quick Attack'\n",
    "\n",
    "    def __str__(self):\n",
    "        return \"Name: \" + self.name + \", HP: \" + str(self.hit_point) + \", Weakness: \" + self.weakness\n",
    "\n",
    "class PokemonExtra(PokemonBasic):\n",
    "    def __init__(self, name='Default', hp=0, weakness='None', m_type='Unknown', s_type=None, other_moves=None):\n",
    "        super().__init__(name=name, hp=hp, weakness=weakness, type=m_type)\n",
    "        self.s_type = s_type\n",
    "        self.other_moves = other_moves\n",
    "\n",
    "    def get_type(self):\n",
    "        if self.s_type == None:\n",
    "            return super().get_type()\n",
    "        else:\n",
    "            return f\"{super().get_type()}, Secondary type: {self.s_type}\"\n",
    "    \n",
    "    def get_move(self):\n",
    "        if self.other_moves == None:\n",
    "            return super().get_move()\n",
    "        else:\n",
    "            output = ''\n",
    "            for move in self.other_moves:\n",
    "                output += move + ', '\n",
    "            return f\"{super().get_move()} \\nOther move: {output.strip(', ')}\"\n",
    "\n",
    "\n",
    "\n",
    "\n",
    "\n",
    "print('\\n------------Basic Info:--------------')\n",
    "pk = PokemonBasic()\n",
    "print(pk)\n",
    "print(pk.get_type())\n",
    "print(pk.get_move())\n",
    "print('\\n------------Pokemon 1 Info:-------------')\n",
    "charmander = PokemonExtra('Charmander', 39, 'Water',\n",
    "'Fire')\n",
    "print(charmander)\n",
    "print(charmander.get_type())\n",
    "print(charmander.get_move())\n",
    "print('\\n------------Pokemon 2 Info:-------------')\n",
    "charizard = PokemonExtra('Charizard', 78, 'Water',\n",
    "'Fire', 'Flying', ('Fire Spin', 'Fire Blaze'))\n",
    "print(charizard)\n",
    "print(charizard.get_type())\n",
    "print(charizard.get_move())"
   ]
  },
  {
   "cell_type": "markdown",
   "metadata": {},
   "source": [
    "## Task 8"
   ]
  },
  {
   "cell_type": "code",
   "execution_count": 62,
   "metadata": {},
   "outputs": [
    {
     "name": "stdout",
     "output_type": "stream",
     "text": [
      "=========================\n",
      "Total Player: 11\n",
      "Our name is Brazil\n",
      "We play Football\n",
      "We love sports\n",
      "=========================\n",
      "Total Player: 11\n",
      "Our name is Bangladesh\n",
      "We play Cricket\n",
      "We love sports\n"
     ]
    }
   ],
   "source": [
    "class Team:\n",
    "    def __init__(self, name):\n",
    "        self.name = \"default\"\n",
    "        self.total_player = 5\n",
    "    def info(self):\n",
    "        print(\"We love sports\")\n",
    "\n",
    "class FootBallTeam(Team):\n",
    "    def __init__(self, name):\n",
    "        super().__init__(name)\n",
    "        self.name = name\n",
    "        self.total_player = 11\n",
    "    def info(self):\n",
    "        print(f\"Our name is {self.name}\")\n",
    "        print(\"We play Football\")\n",
    "        super().info()\n",
    "\n",
    "class CricketTeam(Team):\n",
    "    def __init__(self, name):\n",
    "        super().__init__(name)\n",
    "        self.name = name\n",
    "        self.total_player = 11\n",
    "    def info(self):\n",
    "        print(f\"Our name is {self.name}\")\n",
    "        print(\"We play Cricket\")\n",
    "        super().info()\n",
    "    \n",
    "\n",
    "\n",
    "class Team_test:\n",
    "    def check(self, tm):\n",
    "        print(\"=========================\")\n",
    "        print(\"Total Player:\", tm.total_player)      \n",
    "        tm.info()\n",
    "\n",
    "f = FootBallTeam(\"Brazil\")\n",
    "c = CricketTeam(\"Bangladesh\")\n",
    "test = Team_test()\n",
    "test.check(f)\n",
    "test.check(c)"
   ]
  },
  {
   "cell_type": "markdown",
   "metadata": {},
   "source": [
    "## Task 9"
   ]
  },
  {
   "cell_type": "code",
   "execution_count": 67,
   "metadata": {},
   "outputs": [
    {
     "name": "stdout",
     "output_type": "stream",
     "text": [
      "Pokemon: Pikachu\n",
      "Type: Electric\n",
      "Weakness: Ground\n",
      "I am a Pokemon.\n",
      "I am Pikachu\n",
      "========================\n",
      "Pokemon: Charmander\n",
      "Type: Fire\n",
      "Weakness: Water, Ground and Rock\n",
      "I am a Pokemon.\n",
      "I am Charmander\n"
     ]
    }
   ],
   "source": [
    "class Pokemon:\n",
    "    def __init__(self, p):\n",
    "        self.pokemon = p\n",
    "        self.pokemon_type = \"Needs to be set\"\n",
    "        self.pokemon_weakness = \"Needs to be set\"\n",
    "    def kind(self):\n",
    "        return self.pokemon_type\n",
    "    def weakness(self):\n",
    "        return self.pokemon_weakness\n",
    "    def what_am_i(self):\n",
    "        print(\"I am a Pokemon.\")\n",
    "\n",
    "class Pikachu(Pokemon):\n",
    "    def __init__(self):\n",
    "        super().__init__('Pikachu')\n",
    "        self.pokemon_type = 'Electric'\n",
    "        self.pokemon_weakness = 'Ground'\n",
    "    def what_am_i(self):\n",
    "        super().what_am_i()\n",
    "        print(f\"I am {self.pokemon}\")\n",
    "\n",
    "class Charmander(Pokemon):\n",
    "    def __init__(self):\n",
    "        super().__init__('Charmander')\n",
    "        self.pokemon_type = 'Fire'\n",
    "        self.pokemon_weakness = 'Water, Ground and Rock'\n",
    "    def what_am_i(self):\n",
    "        super().what_am_i()\n",
    "        print(f\"I am {self.pokemon}\")\n",
    "\n",
    "\n",
    "pk1 = Pikachu()\n",
    "print(\"Pokemon:\", pk1.pokemon)\n",
    "print(\"Type:\", pk1.kind())\n",
    "print(\"Weakness:\", pk1.weakness())\n",
    "pk1.what_am_i()\n",
    "print(\"========================\")\n",
    "c1 = Charmander()\n",
    "print(\"Pokemon:\", c1.pokemon)\n",
    "print(\"Type:\", c1.kind())\n",
    "print(\"Weakness:\", c1.weakness())\n",
    "c1.what_am_i()"
   ]
  },
  {
   "cell_type": "markdown",
   "metadata": {},
   "source": [
    "## Task 10"
   ]
  },
  {
   "cell_type": "code",
   "execution_count": 70,
   "metadata": {},
   "outputs": [
    {
     "name": "stdout",
     "output_type": "stream",
     "text": [
      "Name: Rahim\n",
      "ID: 16101328\n",
      "Courses Approved to this CSE Student in Spring2016 semester:\n",
      "CSE110\n",
      "MAT110\n",
      "ENG101\n",
      "==================\n",
      "Name: Tanzim\n",
      "ID: 18101326\n",
      "Courses Approved to this EEE Student in Spring2018 semester:\n",
      "Mat110\n",
      "PHY111\n",
      "ENG101\n",
      "==================\n",
      "Name: Rudana\n",
      "ID: 18101326\n",
      "Courses Approved to this CSE Student in Fall2017 semester:\n",
      "CSE111\n",
      "PHY101\n",
      "MAT120\n",
      "==================\n",
      "Name: Zainab\n",
      "ID: 19201623\n",
      "Courses Approved to this EEE Student in Summer2019 semester:\n",
      "EEE201\n",
      "PHY112\n",
      "MAT120\n"
     ]
    }
   ],
   "source": [
    "class Department:\n",
    "    def __init__(self, s):\n",
    "        self.semester = s\n",
    "        self.name = \"Default\"\n",
    "        self.id = -1\n",
    "    def student_info(self):\n",
    "        print(\"Name:\", self.name)\n",
    "        print(\"ID:\", self.id)\n",
    "    def courses(self, c1, c2, c3):\n",
    "        print(\"No courses Approved yet!\")\n",
    "\n",
    "class CSE(Department):\n",
    "    def __init__(self, name, id, semester):\n",
    "        super().__init__(semester)\n",
    "        self.name = name\n",
    "        self.id = id\n",
    "    \n",
    "    def courses(self, c1, c2, c3):\n",
    "        print(f\"Courses Approved to this CSE Student in {self.semester} semester:\")\n",
    "        print(c1, c2, c3, sep='\\n')\n",
    "\n",
    "class EEE(Department):\n",
    "    def __init__(self, name, id, semester):\n",
    "        super().__init__(semester)\n",
    "        self.name = name\n",
    "        self.id = id\n",
    "    \n",
    "    def courses(self, c1, c2, c3):\n",
    "        print(f\"Courses Approved to this EEE Student in {self.semester} semester:\")\n",
    "        print(c1, c2, c3, sep='\\n')\n",
    "\n",
    "\n",
    "s1 = CSE(\"Rahim\", 16101328,\"Spring2016\")\n",
    "s1.student_info()\n",
    "s1.courses(\"CSE110\", \"MAT110\", \"ENG101\")\n",
    "print(\"==================\")\n",
    "s2 = EEE(\"Tanzim\", 18101326, \"Spring2018\")\n",
    "s2.student_info()\n",
    "s2.courses(\"Mat110\", \"PHY111\", \"ENG101\")\n",
    "print(\"==================\")\n",
    "s3 = CSE(\"Rudana\", 18101326, \"Fall2017\")\n",
    "s3.student_info()\n",
    "s3.courses(\"CSE111\", \"PHY101\", \"MAT120\")\n",
    "print(\"==================\")\n",
    "s4 = EEE(\"Zainab\", 19201623, \"Summer2019\")\n",
    "s4.student_info()\n",
    "s4.courses(\"EEE201\", \"PHY112\", \"MAT120\")"
   ]
  }
 ],
 "metadata": {
  "interpreter": {
   "hash": "4f3b078249380ea762697f4f8f6aea77b3d6e43cbb1b18cbb73d8cde5aa597e7"
  },
  "kernelspec": {
   "display_name": "Python 3.9.7 64-bit (system)",
   "language": "python",
   "name": "python3"
  },
  "language_info": {
   "codemirror_mode": {
    "name": "ipython",
    "version": 3
   },
   "file_extension": ".py",
   "mimetype": "text/x-python",
   "name": "python",
   "nbconvert_exporter": "python",
   "pygments_lexer": "ipython3",
   "version": "3.8.5"
  },
  "orig_nbformat": 4
 },
 "nbformat": 4,
 "nbformat_minor": 2
}
