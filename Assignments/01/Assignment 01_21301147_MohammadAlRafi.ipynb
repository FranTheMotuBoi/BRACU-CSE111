{
 "cells": [
  {
   "cell_type": "markdown",
   "metadata": {},
   "source": [
    "# String\n",
    "## Task 1\n",
    "\n",
    "From a given string, print the string in all uppercase if the number of uppercase letters is more than lowercase letters. Otherwise, if lowercase is greater or equal to uppercase letters, print all lowercase. The inputs will contain letters (A-Z, a-z) only."
   ]
  },
  {
   "cell_type": "code",
   "execution_count": 3,
   "metadata": {},
   "outputs": [
    {
     "name": "stdout",
     "output_type": "stream",
     "text": [
      "banana\n"
     ]
    }
   ],
   "source": [
    "word = input(\"Enter string: \")\n",
    "upper = 0\n",
    "lower = 0\n",
    "for char in word:\n",
    "    if ord(char) in range(65, 91):\n",
    "        upper += 1\n",
    "    else:\n",
    "        lower += 1\n",
    "if upper > lower:\n",
    "    print(word.upper())\n",
    "else:\n",
    "    print(word.lower())"
   ]
  },
  {
   "cell_type": "markdown",
   "metadata": {},
   "source": [
    "## Task 2\n",
    "Given a string, print whether it is a number, word or mixed with digit and letters. If all the characters are numeric values, print NUMBER. If they are all letters, print WORD. If it is mixed, print MIXED."
   ]
  },
  {
   "cell_type": "code",
   "execution_count": 6,
   "metadata": {},
   "outputs": [
    {
     "name": "stdout",
     "output_type": "stream",
     "text": [
      "WORD\n"
     ]
    }
   ],
   "source": [
    "user_input = input(\"Enter your string\")\n",
    "word = False\n",
    "num = False\n",
    "output = \"\"\n",
    "for char in user_input:\n",
    "    if word and num:\n",
    "        break\n",
    "    if ord(char) in range(48, 58):\n",
    "        num = True\n",
    "    elif ord(char.lower()) in range(97, 123):\n",
    "        word = True\n",
    "\n",
    "if num and word:\n",
    "    print(\"MIXED\")\n",
    "elif num:\n",
    "    print(\"NUMBER\")\n",
    "elif word:\n",
    "    print(\"WORD\")\n"
   ]
  },
  {
   "cell_type": "markdown",
   "metadata": {},
   "source": [
    "## Task 3\n",
    "In a given string, there will be two uppercase letters in between some lowercase letters. Print the substring from the first uppercase letter to the last uppercase letter excluding them. If there are no letters in between them, print the word BLANK. It is guaranteed that there will be only two uppercase letters in the string."
   ]
  },
  {
   "cell_type": "code",
   "execution_count": 14,
   "metadata": {},
   "outputs": [
    {
     "name": "stdout",
     "output_type": "stream",
     "text": [
      "BLANK\n"
     ]
    }
   ],
   "source": [
    "word = input(\"Enter a word: \")\n",
    "start = 0\n",
    "end = 0\n",
    "for char in word:\n",
    "    if ord(char) in range(65,91):\n",
    "        if start != 0:\n",
    "            end = word.index(char)\n",
    "        else:\n",
    "            start = word.index(char)\n",
    "if end - start > 1:\n",
    "    print(word[start + 1: end])\n",
    "else:\n",
    "    print('BLANK')\n"
   ]
  },
  {
   "cell_type": "markdown",
   "metadata": {},
   "source": [
    "## Task 4\n",
    "Write a Python program to find the first appearance of the substring 'too' and 'good' from a given string. If 'good' follows the 'too', replace the whole 'too'' good' substring with 'excellent' and print the resulting string. If the above does not appear, print the string as it is."
   ]
  },
  {
   "cell_type": "code",
   "execution_count": 7,
   "metadata": {},
   "outputs": [
    {
     "name": "stdout",
     "output_type": "stream",
     "text": [
      "This book is good too! "
     ]
    }
   ],
   "source": [
    "words = input(\"Enter string: \").split(\" \")\n",
    "\n",
    "for index in range(len(words) - 1):\n",
    "    curr = words[index]\n",
    "    nxt = words[index + 1]\n",
    "\n",
    "    if 'too' in curr and 'good' in nxt:\n",
    "        words[index] = 'excellent!'\n",
    "        del words[index + 1]\n",
    "\n",
    "for word in words:\n",
    "    print(word, end=' ')\n",
    "\n"
   ]
  },
  {
   "cell_type": "markdown",
   "metadata": {},
   "source": [
    "## Task 5\n",
    "Create a string from two given strings by concatenating common characters of the given strings."
   ]
  },
  {
   "cell_type": "code",
   "execution_count": 9,
   "metadata": {},
   "outputs": [
    {
     "name": "stdout",
     "output_type": "stream",
     "text": [
      "Nothing in common.\n"
     ]
    }
   ],
   "source": [
    "strings = input(\"Enter two string separeted by comma: \").split(\",\")\n",
    "\n",
    "output = \"\"\n",
    "\n",
    "for char in strings[0]:\n",
    "    if char in strings[1]:\n",
    "        output += char\n",
    "for char in strings[1]:\n",
    "    if char in strings[0]:\n",
    "        output += char\n",
    "\n",
    "if len(output) > 0:\n",
    "    print(output)\n",
    "else:\n",
    "    print(\"Nothing in common.\")"
   ]
  },
  {
   "cell_type": "markdown",
   "metadata": {},
   "source": [
    "## Task 6\n",
    "Again, you have lost your USIS password!! You went to the registrar office and requested for a new password. This time, you need to follow some rules to set your password. Otherwise, they won't change it. The rules are\n",
    "At least one lowercase letter At least one uppercase letter At least one digit (0-9)\n",
    "At least one special character (_ , $ , #, @)\n",
    "Your task is to find whether a given password follows all those rules. If it breaks any rule, you have to print Lowercase Missing, Uppercase Missing, Digit Missing or Special Missing respective to the missing case. For more than one rule break, print all the rules that were broken (order doesn't matter). If the password is ok, print OK."
   ]
  },
  {
   "cell_type": "code",
   "execution_count": 13,
   "metadata": {},
   "outputs": [
    {
     "name": "stdout",
     "output_type": "stream",
     "text": [
      "Digit missing, \n"
     ]
    }
   ],
   "source": [
    "def check_acsii_presence(string, start, end):\n",
    "    for char in string:\n",
    "        if ord(char) in range(start, end):\n",
    "            return True\n",
    "    return False\n",
    "def check_presence(string, items):\n",
    "    for char in string:\n",
    "        if char in items:\n",
    "            return True\n",
    "    return False\n",
    "\n",
    "password = input(\"Enter your password: \")\n",
    "output = ''\n",
    "if not check_acsii_presence(password, 97, 123):\n",
    "    output += \"Lowercase character missing, \"\n",
    "if not check_acsii_presence(password, 65, 91):\n",
    "    output += \"Uppercase charater missing, \"\n",
    "if not check_acsii_presence(password, 48, 58):\n",
    "    output += \"Digit missing, \"\n",
    "if not check_presence(password, ['_', '$', '#', '@']):\n",
    "    output += 'Special character missing'\n",
    "if len(output) < 1:\n",
    "    output += 'OK'\n",
    "\n",
    "print(output)"
   ]
  },
  {
   "cell_type": "markdown",
   "metadata": {},
   "source": [
    "# List\n",
    "## Task 1\n",
    "Write a python program which prints the frequency of the numbers that were given as input by the user. Stop taking input when you find the string “STOP”. Do not print the frequency of numbers that were not given as input.\n"
   ]
  },
  {
   "cell_type": "code",
   "execution_count": 36,
   "metadata": {},
   "outputs": [
    {
     "name": "stdout",
     "output_type": "stream",
     "text": [
      "10 - 2 times\n",
      "20 - 2 times\n",
      "30 - 1 times\n",
      "50 - 1 times\n",
      "90 - 1 times\n"
     ]
    }
   ],
   "source": [
    "numbers = []\n",
    "result = []\n",
    "while True:\n",
    "    num = input(\"Enter a number: \")\n",
    "    if num == \"STOP\":\n",
    "        break\n",
    "    numbers.append(int(num))\n",
    "\n",
    "for iter1 in numbers:\n",
    "    temp = [iter1, 0]\n",
    "    for iter2 in numbers:\n",
    "        if iter2 == iter1:\n",
    "            temp[1] += 1\n",
    "    if temp not in result:\n",
    "        result.append(temp)\n",
    "for value in result:\n",
    "    print(value[0], '-', value[1], 'times', end='\\n')"
   ]
  },
  {
   "cell_type": "markdown",
   "metadata": {},
   "source": [
    "## Task 2\n",
    "Write a python program that calculates the sum of N given lists and prints the highest sum and its respective list. Input starts with N and followed by N lists."
   ]
  },
  {
   "cell_type": "code",
   "execution_count": 14,
   "metadata": {},
   "outputs": [
    {
     "name": "stdout",
     "output_type": "stream",
     "text": [
      "88\n",
      "[20, 60, 8]\n"
     ]
    }
   ],
   "source": [
    "num = int(input(\"Enter amount of lists: \"))\n",
    "number_list = []\n",
    "for count in range(num):\n",
    "    temp = list(map(int, input('Enter a list of numbers: ').split(' ')))\n",
    "    number_list.append(temp)\n",
    "\n",
    "max = None\n",
    "max_list = None\n",
    "for lists in number_list:\n",
    "    \n",
    "    sum = 0\n",
    "    for num in lists:\n",
    "        sum += num\n",
    "    if number_list.index(lists) == 0:\n",
    "        max = sum\n",
    "    else:\n",
    "        if sum > max:\n",
    "            max = sum\n",
    "            max_list = lists.copy()\n",
    "\n",
    "print(max, max_list, sep='\\n')\n"
   ]
  },
  {
   "cell_type": "markdown",
   "metadata": {},
   "source": [
    "## Task 3\n",
    "Write a python program that prints a list which contains cross multiplication between two given lists."
   ]
  },
  {
   "cell_type": "code",
   "execution_count": 17,
   "metadata": {},
   "outputs": [
    {
     "name": "stdout",
     "output_type": "stream",
     "text": [
      "[4, 4, 4, 6, 6, 6]\n"
     ]
    }
   ],
   "source": [
    "list01 = list(map(int, input('Enter a list of numbers: ').split(' ')))\n",
    "list02 = list(map(int, input('Enter a list of numbers: ').split(' ')))\n",
    "\n",
    "result = []\n",
    "for num01 in list01:\n",
    "    for num02 in list02:\n",
    "        result.append(num01 * num02)\n",
    "\n",
    "print(result)"
   ]
  },
  {
   "cell_type": "markdown",
   "metadata": {},
   "source": [
    "## Task 4\n",
    "Let there are N numbers in a list and that list is said to be a UB Jumper if the absolute values of the difference between the successive elements take on all the values 1 through N − 1. For example, 2 1 4 6 10 is a UB Jumper because the absolute differences between them are 1 3 2 4 which is all numbers from 1 to (5 - 1) or 4. Write a python program that takes a number sequence as input and prints whether it is a UB Jumper or Not UB Jumper. Input will stop after getting “STOP” as input. (Number order or absolute difference order doesn’t follow any sequence.)"
   ]
  },
  {
   "cell_type": "code",
   "execution_count": 19,
   "metadata": {},
   "outputs": [
    {
     "name": "stdout",
     "output_type": "stream",
     "text": [
      "UB Jumper\n",
      "UB Jumper\n",
      "Not UB Jumper\n"
     ]
    }
   ],
   "source": [
    "def factorial(num):\n",
    "    result = 1\n",
    "    for count in range(1, num+1):\n",
    "        result *= count\n",
    "    return result\n",
    "def multiply_list(data):\n",
    "    result = 1\n",
    "    for item in data:\n",
    "        result *= item\n",
    "    return result\n",
    "\n",
    "\n",
    "\n",
    "while True:\n",
    "    numbers = input(\"Enter a list of numbers: \").strip()\n",
    "    sum_list = []\n",
    "    if numbers == \"STOP\":\n",
    "        break\n",
    "    for index in range(len(numbers.split(\" \")) - 1):\n",
    "        curr = int(numbers.split(\" \")[index])\n",
    "        nxt = int(numbers.split(\" \")[index + 1])\n",
    "        sum_list.append(abs(curr - nxt))\n",
    "        \n",
    "    if multiply_list(sum_list) == factorial(len(sum_list)):\n",
    "        print(\"UB Jumper\")\n",
    "    else:\n",
    "        print(\"Not UB Jumper\")\n",
    "\n"
   ]
  },
  {
   "cell_type": "markdown",
   "metadata": {},
   "source": [
    "## Task 5\n",
    "You are given a string that contains alphanumeric characters only. Your task is to sort the string in the following manner:\\\n",
    "a. All sorted lowercase letters are ahead of uppercase letters.\\\n",
    "b. All sorted uppercase letters are ahead of digits.\\\n",
    "c. All sorted odd digits are ahead of sorted even digits.\n"
   ]
  },
  {
   "cell_type": "code",
   "execution_count": 6,
   "metadata": {},
   "outputs": [
    {
     "name": "stdout",
     "output_type": "stream",
     "text": [
      "aaaceiimnprtAC132444"
     ]
    }
   ],
   "source": [
    "def bubble_sort(data):\n",
    "    result = data.copy()\n",
    "    for count1 in range(len(result) - 1):\n",
    "        for count2 in range(len(result) - 1 - count1):\n",
    "            if result[count2] > result[count2+1]:\n",
    "                temp = result[count2]\n",
    "                result[count2] = result[count2 + 1] \n",
    "                result[count2 + 1] = temp\n",
    "    return result\n",
    "\n",
    "\n",
    "string = input(\"Enter an alphanumeric string: \")\n",
    "lower = []\n",
    "upper = []\n",
    "even = []\n",
    "odd = []\n",
    "output = \"\"\n",
    "for char in string:\n",
    "    if char.isupper():\n",
    "        upper.append(char)\n",
    "    elif char.islower():\n",
    "        lower.append(char)\n",
    "    elif int(char) % 2 == 0:\n",
    "        even.append(char)\n",
    "    else:\n",
    "        odd.append(char)\n",
    "\n",
    "output = bubble_sort(lower) + bubble_sort(upper) + bubble_sort(odd) + bubble_sort(even)\n",
    "for item in output:\n",
    "    print(item, end='')\n",
    "\n"
   ]
  },
  {
   "cell_type": "markdown",
   "metadata": {},
   "source": [
    "## Task 6\n",
    "BRACU has n students who are regular competitive programmers. According to the ACM ICPC rules, each person can participate in the regional championship at most 5 times.\\\n",
    "The head of the BRACU ACM Chapter is recently gathering teams to participate in this championship. Each team must consist of exactly three people, at that, any person cannot be a member of two or more teams. What maximum number of teams can the head make if he wants each team to participate in the world championship with the same members at least k times?\\\n",
    "The first line of input contains two integers, n and k. The next line contains n integers: y1, y2, ..., yn (0 ≤ yi ≤ 5), where yi shows the number of times the i-th person participated in the ACM ICPC Regional .\\\n",
    "Write a python program that prints how many teams can be formed according to the above problem statement."
   ]
  },
  {
   "cell_type": "code",
   "execution_count": 20,
   "metadata": {},
   "outputs": [
    {
     "name": "stdout",
     "output_type": "stream",
     "text": [
      "1\n"
     ]
    }
   ],
   "source": [
    "count, times = map(int, input(\"Enter n, k: \").split(\" \"))\n",
    "participators = list(map(int, input(\"Enter participation count of each student: \").split(\" \")))\n",
    "can_fulfill = []\n",
    "for student in participators:\n",
    "    if student + times <= 5:\n",
    "        can_fulfill.append(student)\n",
    "print(len(can_fulfill) // 3)\n",
    "\n"
   ]
  },
  {
   "cell_type": "markdown",
   "metadata": {},
   "source": [
    "# Dictionary & Tuple\n",
    "## Task 1\n",
    "Write a Python program to combine two dictionaries into one by adding values for common keys. Input contains two comma separated dictionaries. Print the new dictionary and create a tuple which contains unique values in sorted order."
   ]
  },
  {
   "cell_type": "code",
   "execution_count": 21,
   "metadata": {},
   "outputs": [
    {
     "name": "stdout",
     "output_type": "stream",
     "text": [
      "{'a': 400, 'b': 300, 'c': 200, 'd': 700, 'e': 200}\n",
      "Values:  (200, 300, 400, 700)\n"
     ]
    }
   ],
   "source": [
    "input01 = input(\"Enter key value pairs of a dictionary: \").split(\",\")\n",
    "input02 = input(\"Enter key value pairs of a dictionary: \").split(\",\")\n",
    "dict01 = {}\n",
    "dict02 = {}\n",
    "values = ()\n",
    "\n",
    "#Taking taking inputs and creating dictionaries\n",
    "for item in input01:\n",
    "    pair = item.strip().split(\":\")\n",
    "    dict01[pair[0]] = int(pair[1])\n",
    "for item in input02:\n",
    "    pair = item.strip().split(\":\")\n",
    "    dict02[pair[0]] = int(pair[1])\n",
    "\n",
    "#Adding two dictionaries\n",
    "for key,value in dict02.items():\n",
    "    if dict01.get(key) != None:\n",
    "        dict01[key] += value\n",
    "    else:\n",
    "        dict01[key] = value\n",
    "        \n",
    "#Making tuple with uniq values in sorted order\n",
    "temp = []\n",
    "for value in dict01.values():\n",
    "    if value not in temp:\n",
    "        temp.append(value)\n",
    "values = tuple(sorted(temp))\n",
    "\n",
    "print(dict01)\n",
    "print('Values: ', values)"
   ]
  },
  {
   "cell_type": "markdown",
   "metadata": {},
   "source": [
    "## Task 2\n",
    "Write a python program which prints the frequency of the numbers that were given as input by the user. Stop taking input when you find the string “STOP”. Do not print the frequency of numbers that were not given as input. Use a dictionary to solve the problem"
   ]
  },
  {
   "cell_type": "code",
   "execution_count": 27,
   "metadata": {},
   "outputs": [
    {
     "name": "stdout",
     "output_type": "stream",
     "text": [
      "10 - 2 times\n",
      "20 - 2 times\n",
      "30 - 1 times\n",
      "50 - 1 times\n",
      "90 - 1 times\n"
     ]
    }
   ],
   "source": [
    "numbers = []\n",
    "result = {}\n",
    "while True:\n",
    "    num = input(\"Enter a number: \")\n",
    "    if num == \"STOP\":\n",
    "        break\n",
    "    numbers.append(int(num))\n",
    "\n",
    "checked_list = []\n",
    "for number in numbers:\n",
    "    if number not in checked_list:\n",
    "        for check in numbers:\n",
    "            if number == check:\n",
    "                result.update({number: result.get(number, 0) + 1})\n",
    "        checked_list.append(number)\n",
    "    \n",
    "for key in result.keys():\n",
    "    print(key, '-', result[key], 'times', end='\\n')"
   ]
  },
  {
   "cell_type": "markdown",
   "metadata": {},
   "source": [
    "## Task 3\n",
    "Write python code to invert a dictionary. It should print a dictionary where the keys are values from the input dictionary and the values are lists of keys from the input dictionary having the same value. Make sure the program handles multiple same values."
   ]
  },
  {
   "cell_type": "code",
   "execution_count": 39,
   "metadata": {},
   "outputs": [
    {
     "name": "stdout",
     "output_type": "stream",
     "text": [
      "{' value1': ['key1 ', ' key3 '], ' value2': [' key2 ']}\n"
     ]
    }
   ],
   "source": [
    "pair_list = input(\"Enter a dictionary: \").split(\",\")\n",
    "dct = {}\n",
    "result = {}\n",
    "for item in pair_list:\n",
    "    pair = item.split(\":\")\n",
    "    dct[pair[0]] = pair[1]\n",
    "\n",
    "for key, value in dct.items():\n",
    "    if result.get(value) == None:\n",
    "        result[value] = []\n",
    "        result[value].append(key)\n",
    "    else:\n",
    "        result[value].append(key)\n",
    "\n",
    "print(result)\n"
   ]
  },
  {
   "cell_type": "markdown",
   "metadata": {},
   "source": [
    "## Task 4\n",
    "Two words are anagrams if they contain all of the same letters, but in a different order. For example, “evil” and “live” are anagrams because each contains one “e”, one “i”, one “l”, and one “v”.\n",
    "\n",
    "Write a program that reads two strings from the user and determines whether or not they are anagrams. Use a dictionary to solve the problem."
   ]
  },
  {
   "cell_type": "code",
   "execution_count": 24,
   "metadata": {},
   "outputs": [
    {
     "name": "stdout",
     "output_type": "stream",
     "text": [
      "Those strings are anagrams.\n"
     ]
    }
   ],
   "source": [
    "string01 = input(\"Enter first string: \").strip()\n",
    "string02 = input(\"Enter second string: \").strip()\n",
    "data = {}\n",
    "are_anagrams = True\n",
    "if len(string01) != len(string02) or string01 == string02:\n",
    "    are_anagrams = False\n",
    "else:\n",
    "    for char in string01:\n",
    "        data[char] = False\n",
    "    \n",
    "    for char in string02:\n",
    "        if data.get(char) == None:\n",
    "            are_anagrams = False\n",
    "            break\n",
    "\n",
    "\n",
    "if are_anagrams:\n",
    "    print(\"Those strings are anagrams.\")\n",
    "else:\n",
    "    print(\"Those strings are not anagrams.\")"
   ]
  },
  {
   "cell_type": "markdown",
   "metadata": {},
   "source": [
    "## Task 5\n",
    "On some basic cell phones, text messages can be sent using the numeric keypad. Because each key has multiple letters associated with it, multiple key presses are needed for most letters. Pressing the number once generates the first character listed for that key. Pressing the number 2, 3, 4 or 5 times generates the second, third, fourth or fifth character."
   ]
  },
  {
   "cell_type": "code",
   "execution_count": 50,
   "metadata": {},
   "outputs": [
    {
     "name": "stdout",
     "output_type": "stream",
     "text": [
      "4433555555666110966677755531111"
     ]
    }
   ],
   "source": [
    "keypad = {\n",
    "    1: '.,?!',\n",
    "    2: 'ABC',\n",
    "    3: 'DEF',\n",
    "    4: 'GHI',\n",
    "    5: 'JKL',\n",
    "    6: 'MNO',\n",
    "    7: 'PQRS',\n",
    "    8: 'TUV',\n",
    "    9: 'WXYZ',\n",
    "    0: ' '\n",
    "}\n",
    "\n",
    "string = input(\"Enter your string: \").upper()\n",
    "\n",
    "for char in string:\n",
    "    pos, num = 0, 0\n",
    "    for key, value in keypad.items():\n",
    "        if char in value:\n",
    "            num = key\n",
    "            pos = value.index(char) + 1\n",
    "    print(str(num)*pos, end='')"
   ]
  }
 ],
 "metadata": {
  "interpreter": {
   "hash": "0f5bd8de185ce23dc2479e66b30b06434d818f5a8623ceb8d2c8fd92ecfcea07"
  },
  "kernelspec": {
   "display_name": "Python 3.9.2 64-bit",
   "name": "python3"
  },
  "language_info": {
   "codemirror_mode": {
    "name": "ipython",
    "version": 3
   },
   "file_extension": ".py",
   "mimetype": "text/x-python",
   "name": "python",
   "nbconvert_exporter": "python",
   "pygments_lexer": "ipython3",
   "version": "3.9.2"
  },
  "orig_nbformat": 4
 },
 "nbformat": 4,
 "nbformat_minor": 2
}
