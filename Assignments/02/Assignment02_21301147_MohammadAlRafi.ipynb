{
 "cells": [
  {
   "cell_type": "markdown",
   "metadata": {},
   "source": [
    "## Task 1\n",
    "Write a function which will return the fraction part after dividing a number by\n",
    "another. The range should be within 0 and 1. Exception: Since dividing anything by\n",
    "0 results in error so if the denominator is 0, the function will return 0 instead of\n",
    "attempting the division."
   ]
  },
  {
   "cell_type": "code",
   "execution_count": 3,
   "metadata": {},
   "outputs": [
    {
     "name": "stdout",
     "output_type": "stream",
     "text": [
      "0.0\n"
     ]
    }
   ],
   "source": [
    "def return_fraction(num1, num2):\n",
    "    if num2 == 0:\n",
    "        return 0\n",
    "    else:\n",
    "        ans = (num1 / num2) - (num1 // num2)\n",
    "        return ans\n",
    "\n",
    "print(return_fraction(0,5))"
   ]
  },
  {
   "cell_type": "markdown",
   "metadata": {},
   "source": [
    "## Task 2\n",
    "You are one of the gym instructors at AmiKenoMota. You decide to provide a\n",
    "customized diet and exercise plans based on the BMI of an individual. You measure\n",
    "the weight in kilograms and height in meters and calculate the BMI before a plan\n",
    "can be decided. Write a BMI function that takes in two values, weight in kg and\n",
    "height in cm and print the score along with the condition. (Make sure to convert cm\n",
    "into m before calculation)\n",
    "\n",
    "BMI(height, weight)\n",
    "\n",
    "𝐵𝑀𝐼 = 𝑘𝑔/𝑚2\n",
    "\n",
    "Based on the BMI score return the following output. \\\n",
    "● < 18.5- Underweight \\\n",
    "● 18.5 - 24.9 - Normal \\\n",
    "● 25 -30 - Overweight \\\n",
    "● > 30 – Obese "
   ]
  },
  {
   "cell_type": "code",
   "execution_count": 26,
   "metadata": {},
   "outputs": [
    {
     "name": "stdout",
     "output_type": "stream",
     "text": [
      "Score is 20.8. You are Normal\n"
     ]
    }
   ],
   "source": [
    "def bmi(height, weight):\n",
    "    bmi_resutl = weight / (height/100)**2\n",
    "    result = ''\n",
    "    if bmi_resutl < 18.5:\n",
    "        result = 'Underweight'\n",
    "    elif bmi_resutl >= 18.5 and bmi_resutl <= 24.9:\n",
    "        result = 'Normal'\n",
    "    elif bmi_resutl >= 25 and bmi_resutl <= 30:\n",
    "        result = 'Overweight'\n",
    "    elif bmi_resutl > 30:\n",
    "        result = 'Obese'\n",
    "\n",
    "    print(\"Score is \" + str(format(bmi_resutl, \".1f\")) + '. ' + 'You are ' + result)\n",
    "\n",
    "\n",
    "bmi(152, 48)"
   ]
  },
  {
   "cell_type": "markdown",
   "metadata": {},
   "source": [
    "## Task 3\n",
    "Write a function which will take 3 arguments minimum, maximum and divisor.\n",
    "You have to find all the numbers that are divisible by the divisor where minimum\n",
    "value is inclusive and maximum value is exclusive. Add all the numbers and return\n",
    "the value."
   ]
  },
  {
   "cell_type": "code",
   "execution_count": 28,
   "metadata": {},
   "outputs": [
    {
     "data": {
      "text/plain": [
       "45"
      ]
     },
     "execution_count": 28,
     "metadata": {},
     "output_type": "execute_result"
    }
   ],
   "source": [
    "def add_divisors(min_num, max_num, div):\n",
    "    total = 0\n",
    "    for num in range(min_num, max_num):\n",
    "        if num % div == 0:\n",
    "            total += num\n",
    "    return total\n",
    "\n",
    "add_divisors(3,16,3)"
   ]
  },
  {
   "cell_type": "markdown",
   "metadata": {},
   "source": [
    "## Task 4\n",
    "You want to order Burger from Chillox through the FoodPanda App. You have to calculate the total price. Write a function which will take the name of the burger and place(Mohakhali/Outside of Mohakhali) as input. Use default argument technique for taking place input.\n",
    "\n",
    "Menu- \\\n",
    "BBQ Chicken Cheese Burger-250 \\\n",
    "Beef Burger-170 \\\n",
    "Naga Drums-200 \\\n",
    "Hint: Total Price = meal_cost + delivery_charge + tax Note that: \n",
    "* If your home is in Mohakhali area then your delivery charge is 40 taka else 60 taka \n",
    "* Your tax rate is 8% of your meal."
   ]
  },
  {
   "cell_type": "code",
   "execution_count": 33,
   "metadata": {},
   "outputs": [
    {
     "name": "stdout",
     "output_type": "stream",
     "text": [
      "223.6\n"
     ]
    }
   ],
   "source": [
    "def order(name, place='Mohakhali'):\n",
    "    menu = {'BBQ Chicken Cheese Burger': 250, 'Beef Burger': 170, 'Nga Drums': 200}\n",
    "    charge = 40\n",
    "    if place != 'Mohakhali':\n",
    "        charge = 60\n",
    "    total = menu[name] + charge + (menu[name]*(8/100))\n",
    "    return total\n",
    "\n",
    "print(order('Beef Burger', ))"
   ]
  },
  {
   "cell_type": "markdown",
   "metadata": {},
   "source": [
    "## Task 5\n",
    "A company named Sheba.xyz has recently moved from their old domain to a new domain. However, a lot of the company email addresses are still using the old one. Write a function in python that replaces this old domain with the new one in any outdated email addresses. Keep same if the email address contains the new domain. (Do not use builtin replace function)\\\n",
    "Firstly, define a “replace_domain” function which accepts three parameters\\\n",
    "* The email address to be checked\n",
    "* The new domain\n",
    "* The old domain (Use Default argument technique to handle this)"
   ]
  },
  {
   "cell_type": "code",
   "execution_count": 41,
   "metadata": {},
   "outputs": [
    {
     "name": "stdout",
     "output_type": "stream",
     "text": [
      "Changed: alice@sheba.xyz\n",
      "Unchanged: bob@sheba.xyz\n",
      "Changed: rafi@bracu.bd\n"
     ]
    }
   ],
   "source": [
    "def replace_domain(email, new, old = None):\n",
    "    new_email = ''\n",
    "    status = ''\n",
    "    if old != None:\n",
    "        if old not in email:\n",
    "            status = 'Unchanged'\n",
    "            new_email = email\n",
    "        else:\n",
    "            status = 'Changed'\n",
    "            for char in email:\n",
    "                if char == '@':\n",
    "                    new_email += '@' + new\n",
    "                    break\n",
    "                new_email += char\n",
    "    else:\n",
    "        if new in email:\n",
    "            status = 'Unchanged'\n",
    "            new_email = email\n",
    "        else:\n",
    "            status = 'Changed'\n",
    "            for char in email:\n",
    "                if char == '@':\n",
    "                    new_email += '@' + new\n",
    "                    break\n",
    "                new_email += char\n",
    "    return status + ': ' + new_email\n",
    "\n",
    "\n",
    "print(replace_domain('alice@kaaj.com', 'sheba.xyz', 'kaaj.com'))"
   ]
  },
  {
   "cell_type": "markdown",
   "metadata": {},
   "source": [
    "## Task 6\n",
    "Write a function which takes only your full name as input and finds the total number of vowels in that input. Output every vowel and at the end output the total number of vowels found. If your name does not contain any vowel then your function should print “No vowels in the name!”."
   ]
  },
  {
   "cell_type": "code",
   "execution_count": 1,
   "metadata": {},
   "outputs": [
    {
     "name": "stdout",
     "output_type": "stream",
     "text": [
      "Vowels: i. Total number of vowels: 1\n"
     ]
    }
   ],
   "source": [
    "def check_vowels(name):\n",
    "    vowels = ('a','e','i','o','u')\n",
    "    count = 0\n",
    "    found_vowels = ''\n",
    "    for char in name:\n",
    "        if char.lower() in vowels:\n",
    "            count += 1\n",
    "            found_vowels += char + ', '\n",
    "    if count != 0:\n",
    "        print('Vowels: ' + found_vowels[:-2] + '. Total number of vowels: ' + str(count))\n",
    "    else:\n",
    "        print(\"No vowels in the name\")\n",
    "\n",
    "word = input(\"Enter a word: \")\n",
    "check_vowels(word)"
   ]
  },
  {
   "cell_type": "markdown",
   "metadata": {},
   "source": [
    "## Task 7\n",
    "Write a program which checks whether a given string is a palindrome or not. Note: A palindrome is a word, phrase, or sequence that reads the same backward as forward. For palindrome, any spaces in middle are not considered and should be trimmed."
   ]
  },
  {
   "cell_type": "code",
   "execution_count": 55,
   "metadata": {},
   "outputs": [
    {
     "name": "stdout",
     "output_type": "stream",
     "text": [
      "Palindrome\n"
     ]
    }
   ],
   "source": [
    "def check_palindrome(word):\n",
    "    cleaned_word = ''\n",
    "    for char in word:\n",
    "        if char == ' ':\n",
    "            continue\n",
    "        cleaned_word += char\n",
    "    if cleaned_word == cleaned_word[::-1]:\n",
    "        print('Palindrome')\n",
    "    else:\n",
    "        print(\"Not a palindrome\")\n",
    "\n",
    "check_palindrome('nurses run')"
   ]
  },
  {
   "cell_type": "markdown",
   "metadata": {},
   "source": [
    "## Task 8\n",
    "Write a function which takes a number of days as input and prints total number of years, number of months and remaining number of days as output."
   ]
  },
  {
   "cell_type": "code",
   "execution_count": 2,
   "metadata": {},
   "outputs": [
    {
     "name": "stdout",
     "output_type": "stream",
     "text": [
      "1 years, 0 months and 0 days\n"
     ]
    }
   ],
   "source": [
    "def format_days(days):\n",
    "    years = days // 365\n",
    "    months = (days % 365) // 30\n",
    "    days = (days % 365) % 30\n",
    "\n",
    "    print(f'{years} years, {months} months and {days} days')\n",
    "\n",
    "day = int(input(\"Enter the number of days: \"))\n",
    "format_days(day)"
   ]
  },
  {
   "cell_type": "markdown",
   "metadata": {},
   "source": [
    "## Task 9\n",
    "You are a class teacher at a kindergarten school. As a task, you asked your students to write a paragraph. Unfortunately, you notice that most of the students did not use capital letters correctly. Your task is to write a function which takes a string as its only parameter and returns a new copy of the string that has been correctly capitalized. Your function should:\n",
    "* Capitalize the first letter in the string\n",
    "* Capitalize the first letter after a full-stop, exclamation mark or question mark\n",
    "* Capitalize the word “i” if it is in lowercase.\n",
    "\n",
    "Summary: You have to write a function that reads a string from the user and capitalizes. The string is then returned and displayed."
   ]
  },
  {
   "cell_type": "code",
   "execution_count": 10,
   "metadata": {},
   "outputs": [
    {
     "name": "stdout",
     "output_type": "stream",
     "text": [
      "My name a rafi \n"
     ]
    }
   ],
   "source": [
    "def capitalize(string):\n",
    "    words = string.strip().split(' ')\n",
    "    cap_string = ''\n",
    "    for index in range(len(words)):\n",
    "        curr = words[index]\n",
    "        prev = words[index-1]\n",
    "        if index == 0 or '.' in prev or '?' in prev or '!' in prev:\n",
    "            cap_string += curr[0].upper() + curr[1:] + ' '\n",
    "            continue\n",
    "        if len(curr) == 1 and curr == 'i':\n",
    "            cap_string += curr.upper() + ' '\n",
    "            continue\n",
    "        cap_string += curr + ' '\n",
    "    return cap_string\n",
    "\n",
    "user = input(\"Enter a string: \")\n",
    "print(capitalize(user))"
   ]
  }
 ],
 "metadata": {
  "interpreter": {
   "hash": "0f5bd8de185ce23dc2479e66b30b06434d818f5a8623ceb8d2c8fd92ecfcea07"
  },
  "kernelspec": {
   "display_name": "Python 3.9.2 64-bit",
   "name": "python3"
  },
  "language_info": {
   "codemirror_mode": {
    "name": "ipython",
    "version": 3
   },
   "file_extension": ".py",
   "mimetype": "text/x-python",
   "name": "python",
   "nbconvert_exporter": "python",
   "pygments_lexer": "ipython3",
   "version": "3.9.2"
  },
  "orig_nbformat": 4
 },
 "nbformat": 4,
 "nbformat_minor": 2
}
